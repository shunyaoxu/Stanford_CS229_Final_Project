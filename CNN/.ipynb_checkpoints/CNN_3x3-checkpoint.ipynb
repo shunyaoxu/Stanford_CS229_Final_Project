{
 "cells": [
  {
   "cell_type": "markdown",
   "id": "f6b8e88e",
   "metadata": {},
   "source": [
    "# CNN Implementation CNN to Solve 3x3 Jigsaw"
   ]
  },
  {
   "cell_type": "markdown",
   "id": "34f44c2a",
   "metadata": {},
   "source": [
    "### 1. Setup"
   ]
  },
  {
   "cell_type": "code",
   "execution_count": 1,
   "id": "05f94ab7",
   "metadata": {},
   "outputs": [],
   "source": [
    "import matplotlib.pyplot as plt\n",
    "import pandas as pd\n",
    "import numpy as np\n",
    "import tensorflow as tf\n",
    "import time\n",
    "from sklearn.preprocessing import normalize\n",
    "from sklearn.model_selection import train_test_split\n",
    "from tensorflow import keras\n",
    "from tensorflow.keras.models import Model, Sequential, load_model\n",
    "from tensorflow.keras.layers import MaxPooling1D, Conv1D, GlobalAveragePooling1D, Reshape\n",
    "from tensorflow.keras.layers import TimeDistributed, GlobalAveragePooling2D, ZeroPadding2D, MaxPooling2D, Flatten, Dense, Input, Dropout, Conv2D, BatchNormalization, MaxPool2D, Activation\n",
    "from tensorflow.keras.layers import TimeDistributed as td"
   ]
  },
  {
   "cell_type": "markdown",
   "id": "07ed2b0b",
   "metadata": {},
   "source": [
    "### 2. Prepare the Data"
   ]
  },
  {
   "cell_type": "code",
   "execution_count": 2,
   "id": "6efda8ef",
   "metadata": {},
   "outputs": [],
   "source": [
    "train_path = \"E:/Stanford_Spring_2122/CS229/Final_Project/data/puzzle_3x3/train/\"\n",
    "val_path = \"E:/Stanford_Spring_2122/CS229/Final_Project/data/puzzle_3x3/valid/\"\n",
    "test_path = \"E:/Stanford_Spring_2122/CS229/Final_Project/data/puzzle_3x3/test/\""
   ]
  },
  {
   "cell_type": "markdown",
   "id": "41b3604c",
   "metadata": {},
   "source": [
    "Load Training Dataset"
   ]
  },
  {
   "cell_type": "code",
   "execution_count": null,
   "id": "dd29eea6",
   "metadata": {},
   "outputs": [],
   "source": []
  }
 ],
 "metadata": {
  "kernelspec": {
   "display_name": "Python 3",
   "language": "python",
   "name": "python3"
  },
  "language_info": {
   "codemirror_mode": {
    "name": "ipython",
    "version": 3
   },
   "file_extension": ".py",
   "mimetype": "text/x-python",
   "name": "python",
   "nbconvert_exporter": "python",
   "pygments_lexer": "ipython3",
   "version": "3.8.8"
  }
 },
 "nbformat": 4,
 "nbformat_minor": 5
}
